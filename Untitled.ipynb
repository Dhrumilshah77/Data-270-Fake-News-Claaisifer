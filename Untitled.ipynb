{
 "cells": [
  {
   "cell_type": "code",
   "execution_count": 10,
   "id": "3255341c",
   "metadata": {},
   "outputs": [
    {
     "name": "stdout",
     "output_type": "stream",
     "text": [
      "fetching data\n",
      "writing data into file\n"
     ]
    }
   ],
   "source": [
    "import praw\n",
    "import os\n",
    "import pandas as pd\n",
    "import datetime\n",
    "\n",
    "config = configparser.ConfigParser()\n",
    "\n",
    "# Read the credentials from the .ini file\n",
    "config.read('praw.ini')\n",
    "\n",
    "# Get the Reddit API credentials from the .ini file\n",
    "client_id = config['Fakenewsdetect']['client_id']\n",
    "client_secret = config['Fakenewsdetect']['client_secret']\n",
    "user_agent = config['Fakenewsdetect']['user_agent']\n",
    "\n",
    "# Initialize the Reddit API client\n",
    "reddit = praw.Reddit(\n",
    "    client_id=client_id,\n",
    "    client_secret=client_secret,\n",
    "    user_agent=user_agent,\n",
    "    redirect_uri=\"http://www.example.com/unused/redirect/uri\",\n",
    ")\n",
    "\n",
    "# getting subreddit \"news\"\n",
    "subreddit = reddit.subreddit(\"news\")\n",
    "\n",
    "# getting hot posts\n",
    "hot_posts = subreddit.hot()\n",
    "\n",
    "# setting up columnds for dataframe\n",
    "columns = ['title', 'selftext', 'author', \\\n",
    "            'subreddit', 'created_utc', \\\n",
    "            'upvote_ratio', 'num_comments', \\\n",
    "            'permalink', 'url']\n",
    "\n",
    "data = []\n",
    "\n",
    "print(\"fetching data\")\n",
    "\n",
    "# collecting data from news sub\n",
    "for post in hot_posts:\n",
    "    data.append([post.title, post.selftext, \\\n",
    "                 post.author, post.subreddit, \\\n",
    "                 post.created_utc, post.upvote_ratio, \\\n",
    "                 post.num_comments, post.permalink, \\\n",
    "                 post.url])\n",
    "\n",
    "\n",
    "# creating dataframe\n",
    "df = pd.DataFrame(data, columns = columns)\n",
    "\n",
    "print(\"writing data into file\")\n",
    "# exporting the data\n",
    "data_path = 'data'\n",
    "file = str(datetime.datetime.now()).replace(\"-\", \"\").replace(\":\", \"\").replace(\" \", \"_\").split(\".\")[0]+'.csv'\n",
    "save_as = data_path+'/'+file\n",
    "\n",
    "if not os.path.exists(data_path):\n",
    "    os.makedirs(data_path)\n",
    "\n",
    "df.to_csv(save_as)"
   ]
  }
 ],
 "metadata": {
  "kernelspec": {
   "display_name": "Python 3 (ipykernel)",
   "language": "python",
   "name": "python3"
  },
  "language_info": {
   "codemirror_mode": {
    "name": "ipython",
    "version": 3
   },
   "file_extension": ".py",
   "mimetype": "text/x-python",
   "name": "python",
   "nbconvert_exporter": "python",
   "pygments_lexer": "ipython3",
   "version": "3.9.13"
  }
 },
 "nbformat": 4,
 "nbformat_minor": 5
}
